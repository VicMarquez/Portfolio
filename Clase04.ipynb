{
  "cells": [
    {
      "cell_type": "markdown",
      "metadata": {
        "id": "cJn48aX4uGvf"
      },
      "source": [
        "# Funciones\n",
        "\n",
        "Dijimos que en python podemos definir nuestras propias funciones y reutilizarlas donde querramos.\n",
        "\n",
        "Como lo hacemos?\n",
        "\n",
        "Una función en python se define de la siguiente manera:\n",
        "\n",
        "\n",
        "\n",
        "```\n",
        "def nombre_de_la_función(parametro1, parametro2):\n",
        "  ...\n",
        "  bloque de código\n",
        "  ...\n",
        "  return algunValor # Opcional\n",
        "```\n",
        "\n",
        "Una función puede recibir 0 o tantos parámetros como necesitemos y opcionalmente retornar algún valor\n",
        "\n",
        "Para llamarla simplemente escribimos su nombre y le pasamos los parámetros que necesite (si es que necesita)\n",
        "\n",
        "Veamos algunos ejemplos:"
      ]
    },
    {
      "cell_type": "code",
      "execution_count": null,
      "metadata": {
        "id": "G4l0o_btuFrE"
      },
      "outputs": [],
      "source": [
        "# Función que no recibe parámetros y no retorna ningún valor\n",
        "def nuestra_funcion():\n",
        "  print(\"Nuestra primer funcion que no retorna nada y simplemente imprime un mensaje\")"
      ]
    },
    {
      "cell_type": "code",
      "execution_count": null,
      "metadata": {
        "id": "LUYdRnv77JVx"
      },
      "outputs": [],
      "source": [
        "nuestra_funcion()"
      ]
    },
    {
      "cell_type": "code",
      "execution_count": null,
      "metadata": {
        "id": "2dwBbbg7vh9U"
      },
      "outputs": [],
      "source": [
        "# Función que recibe parámetros pero no retorna ningún valor\n",
        "\n",
        "def otra_funcion(parametro):\n",
        "  print(f\"el parametro toma el valor: {parametro}\")\n",
        "\n",
        "otra_funcion(\"un valor\")\n",
        "otra_funcion(5)\n",
        "otra_funcion([1,2,3])"
      ]
    },
    {
      "cell_type": "code",
      "execution_count": null,
      "metadata": {
        "id": "LOAOvW27vzNa"
      },
      "outputs": [],
      "source": [
        "# Función que recibe parámetros y retorna un valor\n",
        "def suma(a, b):\n",
        "    return a+b"
      ]
    },
    {
      "cell_type": "code",
      "execution_count": null,
      "metadata": {
        "id": "wdS5k5bwv5RJ"
      },
      "outputs": [],
      "source": [
        "c = suma(5, 6)\n",
        "print(c)"
      ]
    },
    {
      "cell_type": "markdown",
      "metadata": {
        "id": "p_ytekGUwBli"
      },
      "source": [
        "##### Docstrings\n",
        "\n",
        "Es una muy buena práctica, documentar lo que hacemos. Muchas veces otras personas van a ver nuestro código, nuestros análisis en jupyter notebooks, etc y no es simple ver el código de otra persona cuando no hay ningún comentario.\n",
        "\n",
        "Tenemos que acostumbrarnos desde ahora a comentar bien las funciones que hacemos y aprovechar las celdas de texto que nos brinda jupyter para explicar lo que vamos haciendo.\n",
        "\n",
        "En python, una forma de describir lo que hace una función es usando docstings. Esto es, una descripción que se pone entre 3 comillas \"\"\" al principio de la funcion. Por ejemplo:"
      ]
    },
    {
      "cell_type": "code",
      "execution_count": null,
      "metadata": {
        "id": "xW1bCpTNwnfc"
      },
      "outputs": [],
      "source": [
        "def suma(a, b):\n",
        "  \"\"\"\n",
        "  Esta funcion retorna la suma de los valores de a y b.\n",
        "  Params:\n",
        "  - a: número a (int)\n",
        "  - b: número b (int)\n",
        "  \"\"\"\n",
        "  return a + b"
      ]
    },
    {
      "cell_type": "markdown",
      "metadata": {
        "id": "UKx76sJvw1CV"
      },
      "source": [
        "Otra buena práctica, es especificar el tipo de dato que esperamos que reciba una función y el tipo de dato que devuelve. Esto se hace de la siguiente forma:"
      ]
    },
    {
      "cell_type": "code",
      "execution_count": null,
      "metadata": {
        "id": "TEFPbnuVw74h"
      },
      "outputs": [],
      "source": [
        "def suma(a: int, b: int) -> int:\n",
        "  \"\"\"\n",
        "  Esta funcion retorna la suma de los valores de a y b.\n",
        "  Params:\n",
        "  - a: número a (int)\n",
        "  - b: número b (int)\n",
        "  \"\"\"\n",
        "  return a + b"
      ]
    },
    {
      "cell_type": "markdown",
      "metadata": {
        "id": "ys2vLUNqzsrc"
      },
      "source": [
        "Además, cuando definimos una función con docstings, al utilizar la funcion `help`de python, ese docstring se imprime y puede ser muy util para otra persona que quiera usar nuestra función!"
      ]
    },
    {
      "cell_type": "code",
      "execution_count": null,
      "metadata": {
        "id": "UxJ4lpQwzfKM"
      },
      "outputs": [],
      "source": [
        "help(suma)"
      ]
    },
    {
      "cell_type": "markdown",
      "metadata": {
        "id": "sT0wn2aju550"
      },
      "source": [
        "-Parametros por defecto"
      ]
    },
    {
      "cell_type": "code",
      "execution_count": null,
      "metadata": {
        "id": "k-mKgXUZu71H"
      },
      "outputs": [],
      "source": [
        "def resta(a=None, b=None):\n",
        "    if a == None or b == None:\n",
        "        print(\"Error, debes enviar dos números a la función\")\n",
        "        return   # indicamos el final de la función aunque no devuelva nada\n",
        "    else:\n",
        "      return a-b\n",
        "\n",
        "#resta()"
      ]
    },
    {
      "cell_type": "code",
      "execution_count": null,
      "metadata": {
        "id": "rFCo7WZT5Cyq"
      },
      "outputs": [],
      "source": [
        "resta(2,1)"
      ]
    },
    {
      "cell_type": "markdown",
      "metadata": {
        "id": "TZTRD5BPuO7_"
      },
      "source": [
        "# Ejercicios\n",
        "\n",
        "1) Realiza una función llamada `relacion(a, b)` que a partir de dos números cumpla lo siguiente:\n",
        "\n",
        "Si el primer número es mayor que el segundo, debe devolver 1.\n",
        "Si el primer número es menor que el segundo, debe devolver -1.\n",
        "Si ambos números son iguales, debe devolver un 0.\n",
        "\n",
        "\n",
        "2) Realiza una función `separar(lista)` que tome una lista de números enteros y devuelva dos listas ordenadas. La primera con los números pares y la segunda con los números impares.\n",
        "\n"
      ]
    },
    {
      "cell_type": "code",
      "execution_count": 6,
      "metadata": {},
      "outputs": [
        {
          "name": "stdout",
          "output_type": "stream",
          "text": [
            "{1}\n"
          ]
        }
      ],
      "source": [
        "\n",
        "a=12\n",
        "b= 5\n",
        "parametro=1\n",
        "parametro1= -1\n",
        "parametro0= 0\n",
        "def relacion(a, b):\n",
        "    if a > b:\n",
        "        print({parametro}) \n",
        "    if a < b:\n",
        "        print({parametro1})     \n",
        "    if a == b:\n",
        "        print({parametro0})  \n",
        "\n",
        "relacion (a,b)"
      ]
    },
    {
      "cell_type": "code",
      "execution_count": 9,
      "metadata": {},
      "outputs": [
        {
          "data": {
            "text/plain": [
              "([2, 6, 8, 12, 22], [3, 7, 13, 21])"
            ]
          },
          "execution_count": 9,
          "metadata": {},
          "output_type": "execute_result"
        }
      ],
      "source": [
        "lista= {3,6,8,7,2,12,13,22,21}\n",
        "def separar(lista):\n",
        "    pares = []\n",
        "    impares = []\n",
        "    for num in lista:\n",
        "        if num % 2 == 0:\n",
        "            pares.append(num) # aca meto los numeros pares en la lista vacia pares\n",
        "        else:\n",
        "            impares.append(num) # aca meto los numeros impares en la lista vacia impares\n",
        "    pares.sort() # esto ordena las listas\n",
        "    impares.sort()\n",
        "    return pares, impares\n",
        "separar(lista)"
      ]
    },
    {
      "cell_type": "markdown",
      "metadata": {
        "id": "nFr1UJO_sNVs"
      },
      "source": [
        "# Numpy\n",
        "\n",
        "Recuerden que siempre pueden tener la documentación a mano cuando necesitan algo: https://numpy.org/doc/stable/\n",
        "\n",
        "En esta clase vamos a empezar a aprender las principales funcionalidades que nos brinda numpy.\n",
        "\n",
        "Lo primero que tenemos que hacer siempre que vayamos a usar una librería, es instalarla.\n",
        "\n",
        "En python, las librerías se pueden instalar con el comando `pip install NombreDeLaLibreria` o en el caso de que estemos en un environment de conda, 'conda install'.\n",
        "\n",
        "Siempre en la documentación de una librería nos van a explicar como instalarla.\n",
        "\n",
        "Si instalamos anaconda o usamos google colab, numpy ya viene instalado. Si no, debemos correr el siguiente comando:"
      ]
    },
    {
      "cell_type": "code",
      "execution_count": 10,
      "metadata": {
        "id": "LkkiEMGStN5n"
      },
      "outputs": [
        {
          "name": "stdout",
          "output_type": "stream",
          "text": [
            "Collecting numpy\n",
            "  Obtaining dependency information for numpy from https://files.pythonhosted.org/packages/99/2b/f7114983d84303019385d93d24d729aedba67be7e083286f114188943cf3/numpy-1.26.3-cp311-cp311-win_amd64.whl.metadata\n",
            "  Downloading numpy-1.26.3-cp311-cp311-win_amd64.whl.metadata (61 kB)\n",
            "     ---------------------------------------- 0.0/61.2 kB ? eta -:--:--\n",
            "     ------ --------------------------------- 10.2/61.2 kB ? eta -:--:--\n",
            "     ------------------- ------------------ 30.7/61.2 kB 217.9 kB/s eta 0:00:01\n",
            "     ------------------------------- ------ 51.2/61.2 kB 327.7 kB/s eta 0:00:01\n",
            "     -------------------------------------- 61.2/61.2 kB 361.5 kB/s eta 0:00:00\n",
            "Downloading numpy-1.26.3-cp311-cp311-win_amd64.whl (15.8 MB)\n",
            "   ---------------------------------------- 0.0/15.8 MB ? eta -:--:--\n",
            "   ---------------------------------------- 0.1/15.8 MB 2.4 MB/s eta 0:00:07\n",
            "   - -------------------------------------- 0.5/15.8 MB 6.3 MB/s eta 0:00:03\n",
            "   -- ------------------------------------- 1.1/15.8 MB 8.1 MB/s eta 0:00:02\n",
            "   ---- ----------------------------------- 1.7/15.8 MB 10.0 MB/s eta 0:00:02\n",
            "   ---- ----------------------------------- 1.8/15.8 MB 7.8 MB/s eta 0:00:02\n",
            "   ------- -------------------------------- 3.1/15.8 MB 11.0 MB/s eta 0:00:02\n",
            "   --------- ------------------------------ 3.7/15.8 MB 11.9 MB/s eta 0:00:02\n",
            "   --------- ------------------------------ 3.8/15.8 MB 10.5 MB/s eta 0:00:02\n",
            "   ------------- -------------------------- 5.2/15.8 MB 12.3 MB/s eta 0:00:01\n",
            "   -------------- ------------------------- 5.8/15.8 MB 12.4 MB/s eta 0:00:01\n",
            "   -------------- ------------------------- 5.9/15.8 MB 12.6 MB/s eta 0:00:01\n",
            "   ----------------- ---------------------- 6.7/15.8 MB 12.3 MB/s eta 0:00:01\n",
            "   ------------------- -------------------- 7.8/15.8 MB 13.1 MB/s eta 0:00:01\n",
            "   --------------------- ------------------ 8.5/15.8 MB 13.2 MB/s eta 0:00:01\n",
            "   ----------------------- ---------------- 9.2/15.8 MB 13.3 MB/s eta 0:00:01\n",
            "   ------------------------ --------------- 9.8/15.8 MB 13.4 MB/s eta 0:00:01\n",
            "   -------------------------- ------------- 10.5/15.8 MB 14.6 MB/s eta 0:00:01\n",
            "   ---------------------------- ----------- 11.2/15.8 MB 14.6 MB/s eta 0:00:01\n",
            "   ----------------------------- ---------- 11.8/15.8 MB 14.6 MB/s eta 0:00:01\n",
            "   ------------------------------- -------- 12.5/15.8 MB 15.2 MB/s eta 0:00:01\n",
            "   --------------------------------- ------ 13.1/15.8 MB 14.5 MB/s eta 0:00:01\n",
            "   ----------------------------------- ---- 13.8/15.8 MB 14.6 MB/s eta 0:00:01\n",
            "   ------------------------------------ --- 14.5/15.8 MB 14.9 MB/s eta 0:00:01\n",
            "   -------------------------------------- - 15.1/15.8 MB 14.6 MB/s eta 0:00:01\n",
            "   ---------------------------------------  15.8/15.8 MB 14.6 MB/s eta 0:00:01\n",
            "   ---------------------------------------- 15.8/15.8 MB 13.9 MB/s eta 0:00:00\n",
            "Installing collected packages: numpy\n",
            "Successfully installed numpy-1.26.3\n"
          ]
        },
        {
          "name": "stderr",
          "output_type": "stream",
          "text": [
            "\n",
            "[notice] A new release of pip is available: 23.2.1 -> 23.3.2\n",
            "[notice] To update, run: python.exe -m pip install --upgrade pip\n"
          ]
        }
      ],
      "source": [
        "!pip install numpy"
      ]
    },
    {
      "cell_type": "markdown",
      "metadata": {
        "id": "YhBSvAbFtQu7"
      },
      "source": [
        "Vemos que dice: Requirement already satisfied: numpy in /usr/local/lib/python3.7/dist-packages (1.19.5)\n",
        "\n",
        "Esto quiere decir que ya la teníamos instalada desde antes.\n",
        "\n",
        "Una vez que instalamos una librería, tenemos que importarla para poder usarla. En python, esto se hace de la siguiente manera:"
      ]
    },
    {
      "cell_type": "code",
      "execution_count": 11,
      "metadata": {
        "id": "NwC9Q3LvtPP1"
      },
      "outputs": [],
      "source": [
        "import numpy as np"
      ]
    },
    {
      "cell_type": "markdown",
      "metadata": {
        "id": "7veZ6OtRthYa"
      },
      "source": [
        "La parte que dice `as np` se denomina alias. Esto es para que cuando querramos llamar a la librería, no tengamos que poner su nombre completo y podamos llamarla simplemente con el alias `np`.\n",
        "\n",
        "## Numpy array\n",
        "\n",
        "El elemento principal de numpy es el numpy array. Para crear uno hay varias formas, una de ellas es pasándo una lista como parámetro:"
      ]
    },
    {
      "cell_type": "code",
      "execution_count": 12,
      "metadata": {
        "id": "OmLD3uMltgsH"
      },
      "outputs": [
        {
          "name": "stdout",
          "output_type": "stream",
          "text": [
            "[1, 2, 3, 4]\n",
            "[1 2 3 4]\n"
          ]
        }
      ],
      "source": [
        "lista = [1,2,3,4]\n",
        "numpy_array = np.array(lista) # pasa lista a parametro \n",
        "print(lista)\n",
        "print(numpy_array)"
      ]
    },
    {
      "cell_type": "markdown",
      "metadata": {
        "id": "f1LsFswMzJs2"
      },
      "source": [
        "En este caso, en el que el array esta compuesto por un rango de números en forma ascendente, numpy nos brinda formas más rapidas de crear un array:"
      ]
    },
    {
      "cell_type": "code",
      "execution_count": 13,
      "metadata": {
        "id": "fPjLxuSSzH7X"
      },
      "outputs": [
        {
          "data": {
            "text/plain": [
              "array([0, 1, 2, 3])"
            ]
          },
          "execution_count": 13,
          "metadata": {},
          "output_type": "execute_result"
        }
      ],
      "source": [
        "np.arange(4)"
      ]
    },
    {
      "cell_type": "markdown",
      "metadata": {
        "id": "56U0CwSfzbOx"
      },
      "source": [
        "Este array empieza desde 0, nuestra lista anterior arrancaba desde 1. ¿ Cómo podremos hacer que el array arranque desde 1 ?\n",
        "Para responder preguntas de este tipo, la documentación y el comando help() son muy útiles.\n",
        "\n",
        "Veamos que dice el comando help:"
      ]
    },
    {
      "cell_type": "code",
      "execution_count": 19,
      "metadata": {
        "id": "5nyX2VKUzXbP"
      },
      "outputs": [
        {
          "name": "stdout",
          "output_type": "stream",
          "text": [
            "Help on built-in function arange in module numpy:\n",
            "\n",
            "arange(...)\n",
            "    arange([start,] stop[, step,], dtype=None, *, like=None)\n",
            "    \n",
            "    Return evenly spaced values within a given interval.\n",
            "    \n",
            "    ``arange`` can be called with a varying number of positional arguments:\n",
            "    \n",
            "    * ``arange(stop)``: Values are generated within the half-open interval\n",
            "      ``[0, stop)`` (in other words, the interval including `start` but\n",
            "      excluding `stop`).\n",
            "    * ``arange(start, stop)``: Values are generated within the half-open\n",
            "      interval ``[start, stop)``.\n",
            "    * ``arange(start, stop, step)`` Values are generated within the half-open\n",
            "      interval ``[start, stop)``, with spacing between values given by\n",
            "      ``step``.\n",
            "    \n",
            "    For integer arguments the function is roughly equivalent to the Python\n",
            "    built-in :py:class:`range`, but returns an ndarray rather than a ``range``\n",
            "    instance.\n",
            "    \n",
            "    When using a non-integer step, such as 0.1, it is often better to use\n",
            "    `numpy.linspace`.\n",
            "    \n",
            "    See the Warning sections below for more information.\n",
            "    \n",
            "    Parameters\n",
            "    ----------\n",
            "    start : integer or real, optional\n",
            "        Start of interval.  The interval includes this value.  The default\n",
            "        start value is 0.\n",
            "    stop : integer or real\n",
            "        End of interval.  The interval does not include this value, except\n",
            "        in some cases where `step` is not an integer and floating point\n",
            "        round-off affects the length of `out`.\n",
            "    step : integer or real, optional\n",
            "        Spacing between values.  For any output `out`, this is the distance\n",
            "        between two adjacent values, ``out[i+1] - out[i]``.  The default\n",
            "        step size is 1.  If `step` is specified as a position argument,\n",
            "        `start` must also be given.\n",
            "    dtype : dtype, optional\n",
            "        The type of the output array.  If `dtype` is not given, infer the data\n",
            "        type from the other input arguments.\n",
            "    like : array_like, optional\n",
            "        Reference object to allow the creation of arrays which are not\n",
            "        NumPy arrays. If an array-like passed in as ``like`` supports\n",
            "        the ``__array_function__`` protocol, the result will be defined\n",
            "        by it. In this case, it ensures the creation of an array object\n",
            "        compatible with that passed in via this argument.\n",
            "    \n",
            "        .. versionadded:: 1.20.0\n",
            "    \n",
            "    Returns\n",
            "    -------\n",
            "    arange : ndarray\n",
            "        Array of evenly spaced values.\n",
            "    \n",
            "        For floating point arguments, the length of the result is\n",
            "        ``ceil((stop - start)/step)``.  Because of floating point overflow,\n",
            "        this rule may result in the last element of `out` being greater\n",
            "        than `stop`.\n",
            "    \n",
            "    Warnings\n",
            "    --------\n",
            "    The length of the output might not be numerically stable.\n",
            "    \n",
            "    Another stability issue is due to the internal implementation of\n",
            "    `numpy.arange`.\n",
            "    The actual step value used to populate the array is\n",
            "    ``dtype(start + step) - dtype(start)`` and not `step`. Precision loss\n",
            "    can occur here, due to casting or due to using floating points when\n",
            "    `start` is much larger than `step`. This can lead to unexpected\n",
            "    behaviour. For example::\n",
            "    \n",
            "      >>> np.arange(0, 5, 0.5, dtype=int)\n",
            "      array([0, 0, 0, 0, 0, 0, 0, 0, 0, 0])\n",
            "      >>> np.arange(-3, 3, 0.5, dtype=int)\n",
            "      array([-3, -2, -1,  0,  1,  2,  3,  4,  5,  6,  7,  8])\n",
            "    \n",
            "    In such cases, the use of `numpy.linspace` should be preferred.\n",
            "    \n",
            "    The built-in :py:class:`range` generates :std:doc:`Python built-in integers\n",
            "    that have arbitrary size <python:c-api/long>`, while `numpy.arange`\n",
            "    produces `numpy.int32` or `numpy.int64` numbers. This may result in\n",
            "    incorrect results for large integer values::\n",
            "    \n",
            "      >>> power = 40\n",
            "      >>> modulo = 10000\n",
            "      >>> x1 = [(n ** power) % modulo for n in range(8)]\n",
            "      >>> x2 = [(n ** power) % modulo for n in np.arange(8)]\n",
            "      >>> print(x1)\n",
            "      [0, 1, 7776, 8801, 6176, 625, 6576, 4001]  # correct\n",
            "      >>> print(x2)\n",
            "      [0, 1, 7776, 7185, 0, 5969, 4816, 3361]  # incorrect\n",
            "    \n",
            "    See Also\n",
            "    --------\n",
            "    numpy.linspace : Evenly spaced numbers with careful handling of endpoints.\n",
            "    numpy.ogrid: Arrays of evenly spaced numbers in N-dimensions.\n",
            "    numpy.mgrid: Grid-shaped arrays of evenly spaced numbers in N-dimensions.\n",
            "    :ref:`how-to-partition`\n",
            "    \n",
            "    Examples\n",
            "    --------\n",
            "    >>> np.arange(3)\n",
            "    array([0, 1, 2])\n",
            "    >>> np.arange(3.0)\n",
            "    array([ 0.,  1.,  2.])\n",
            "    >>> np.arange(3,7)\n",
            "    array([3, 4, 5, 6])\n",
            "    >>> np.arange(3,7,2)\n",
            "    array([3, 5])\n",
            "\n"
          ]
        },
        {
          "data": {
            "text/plain": [
              "array([1, 2, 3, 4])"
            ]
          },
          "execution_count": 19,
          "metadata": {},
          "output_type": "execute_result"
        }
      ],
      "source": [
        "help(np.arange)\n",
        "np.arange(1,5)"
      ]
    },
    {
      "cell_type": "markdown",
      "metadata": {
        "id": "mLdwZast0LF-"
      },
      "source": [
        "Ahora, tratemos de generar un array de 6 elementos que arranque desde el valor 0!"
      ]
    },
    {
      "cell_type": "code",
      "execution_count": 20,
      "metadata": {
        "id": "rFBMtZhHz5r3"
      },
      "outputs": [
        {
          "name": "stdout",
          "output_type": "stream",
          "text": [
            "[0 1 2 3 4 5]\n"
          ]
        }
      ],
      "source": [
        "nuevo_array = np.arange(6) # COMPLETAR\n",
        "print(nuevo_array)"
      ]
    },
    {
      "cell_type": "markdown",
      "metadata": {
        "id": "OYYh1nP-08La"
      },
      "source": [
        "### Operaciones sobre listas y arrays de numpy"
      ]
    },
    {
      "cell_type": "markdown",
      "metadata": {
        "id": "jCOjoam_0hzF"
      },
      "source": [
        "Otra funcionalidad muy útil que nos provee numpy, es la posibilidad de realizar una operación matemática sobre cada elemento de la lista de una forma muy simple.\n",
        "\n",
        "Si queremos hacer esto con una lista común de python, vamos a necesitar iterar sobre cada elemento (con un for). Numpy nos ahorra ese paso:"
      ]
    },
    {
      "cell_type": "code",
      "execution_count": 21,
      "metadata": {
        "id": "IrKN4glp0ez6",
        "scrolled": true
      },
      "outputs": [
        {
          "ename": "TypeError",
          "evalue": "can only concatenate list (not \"int\") to list",
          "output_type": "error",
          "traceback": [
            "\u001b[1;31m---------------------------------------------------------------------------\u001b[0m",
            "\u001b[1;31mTypeError\u001b[0m                                 Traceback (most recent call last)",
            "Cell \u001b[1;32mIn[21], line 3\u001b[0m\n\u001b[0;32m      1\u001b[0m \u001b[38;5;66;03m# Al hacerlo sobre una lista, vamos a obtener un error:\u001b[39;00m\n\u001b[1;32m----> 3\u001b[0m \u001b[43m[\u001b[49m\u001b[38;5;241;43m1\u001b[39;49m\u001b[43m,\u001b[49m\u001b[38;5;241;43m2\u001b[39;49m\u001b[43m,\u001b[49m\u001b[38;5;241;43m3\u001b[39;49m\u001b[43m]\u001b[49m\u001b[43m \u001b[49m\u001b[38;5;241;43m+\u001b[39;49m\u001b[43m \u001b[49m\u001b[38;5;241;43m1\u001b[39;49m\n",
            "\u001b[1;31mTypeError\u001b[0m: can only concatenate list (not \"int\") to list"
          ]
        }
      ],
      "source": [
        "# Al hacerlo sobre una lista, vamos a obtener un error:\n",
        "\n",
        "[1,2,3] + 1"
      ]
    },
    {
      "cell_type": "code",
      "execution_count": 22,
      "metadata": {
        "id": "MjjzQUNx5Cyu"
      },
      "outputs": [
        {
          "data": {
            "text/plain": [
              "[2, 3, 4, 5, 6, 7]"
            ]
          },
          "execution_count": 22,
          "metadata": {},
          "output_type": "execute_result"
        }
      ],
      "source": [
        "l = [1,2,3,4,5,6]\n",
        "l_sum = []\n",
        "for elem in l:\n",
        "    elemento = elem +1\n",
        "    l_sum.append(elemento)\n",
        "l_sum"
      ]
    },
    {
      "cell_type": "code",
      "execution_count": 23,
      "metadata": {
        "id": "cnkH7L4RCXR2"
      },
      "outputs": [
        {
          "data": {
            "text/plain": [
              "[2, 3, 4, 5, 6, 7]"
            ]
          },
          "execution_count": 23,
          "metadata": {},
          "output_type": "execute_result"
        }
      ],
      "source": [
        "# Si queremos hacerlo sobre una lista tenemos que usar list comprehension\n",
        "\n",
        "l = [1,2,3,4,5,6]\n",
        "l_sum = [item + 1 for item in l] # estas son las famosas lista de comprehesion \n",
        "l_sum"
      ]
    },
    {
      "cell_type": "code",
      "execution_count": 24,
      "metadata": {
        "id": "ZG2-z4mi1G2z"
      },
      "outputs": [
        {
          "data": {
            "text/plain": [
              "array([2, 3, 4, 5, 6, 7])"
            ]
          },
          "execution_count": 24,
          "metadata": {},
          "output_type": "execute_result"
        }
      ],
      "source": [
        "# Pero sobre un numpy array, lo podemos hacer simplemente sumando un número:\n",
        "\n",
        "np.arange(1,7) + 1"
      ]
    },
    {
      "cell_type": "code",
      "execution_count": 25,
      "metadata": {
        "id": "z1-pEz_I1OhM"
      },
      "outputs": [
        {
          "data": {
            "text/plain": [
              "array([ 5, 10, 15, 20, 25, 30])"
            ]
          },
          "execution_count": 25,
          "metadata": {},
          "output_type": "execute_result"
        }
      ],
      "source": [
        "np.arange(1,7) * 5"
      ]
    },
    {
      "cell_type": "markdown",
      "metadata": {
        "id": "aqzrRe1L3FFX"
      },
      "source": [
        "### Arrays multidimensionales\n",
        "\n",
        "Al igual que las listas, los arrays de numpy pueden ser n-dimensionales"
      ]
    },
    {
      "cell_type": "code",
      "execution_count": 26,
      "metadata": {
        "id": "g28WwZeC3Ko0"
      },
      "outputs": [
        {
          "data": {
            "text/plain": [
              "array([[[ 1,  2,  3],\n",
              "        [ 4,  5,  6]],\n",
              "\n",
              "       [[ 7,  8,  9],\n",
              "        [10, 11, 12]]])"
            ]
          },
          "execution_count": 26,
          "metadata": {},
          "output_type": "execute_result"
        }
      ],
      "source": [
        "n_dimensiones = np.array([[[1,2,3], [4,5,6]],\n",
        "                          [[7,8,9], [10, 11, 12]]])\n",
        "n_dimensiones"
      ]
    },
    {
      "cell_type": "markdown",
      "metadata": {
        "id": "P07kfllq1ZA1"
      },
      "source": [
        "### Shape\n",
        "\n",
        "Vimos que los arrays de numpy tienen un atributo que se llama `shape`. Esto nos dice la \"forma\" que tiene el array. Veamos un ejemplo:"
      ]
    },
    {
      "cell_type": "code",
      "execution_count": 27,
      "metadata": {
        "id": "aG12kFQE1RD7"
      },
      "outputs": [
        {
          "data": {
            "text/plain": [
              "(2, 2, 3)"
            ]
          },
          "execution_count": 27,
          "metadata": {},
          "output_type": "execute_result"
        }
      ],
      "source": [
        "n_dimensiones.shape # aca tengo dudas"
      ]
    },
    {
      "cell_type": "markdown",
      "metadata": {
        "id": "Ofc5pqH73qlh"
      },
      "source": [
        "El shape de un array puede modificarse con la función reshape() de numpy:"
      ]
    },
    {
      "cell_type": "code",
      "execution_count": 28,
      "metadata": {
        "id": "JofXc_WC3cz3"
      },
      "outputs": [
        {
          "data": {
            "text/plain": [
              "array([0, 1, 2, 3, 4])"
            ]
          },
          "execution_count": 28,
          "metadata": {},
          "output_type": "execute_result"
        }
      ],
      "source": [
        "una_dim = np.arange(5)\n",
        "una_dim"
      ]
    },
    {
      "cell_type": "code",
      "execution_count": 29,
      "metadata": {
        "id": "gI8I1-Wx37QJ"
      },
      "outputs": [
        {
          "data": {
            "text/plain": [
              "(5,)"
            ]
          },
          "execution_count": 29,
          "metadata": {},
          "output_type": "execute_result"
        }
      ],
      "source": [
        "una_dim.shape"
      ]
    },
    {
      "cell_type": "code",
      "execution_count": 30,
      "metadata": {
        "id": "II1Ond303zZt"
      },
      "outputs": [
        {
          "data": {
            "text/plain": [
              "array([[0],\n",
              "       [1],\n",
              "       [2],\n",
              "       [3],\n",
              "       [4]])"
            ]
          },
          "execution_count": 30,
          "metadata": {},
          "output_type": "execute_result"
        }
      ],
      "source": [
        "# (filas, columnas)\n",
        "una_dim = una_dim.reshape(5, 1) # basicamente es como transmutar\n",
        "una_dim"
      ]
    },
    {
      "cell_type": "code",
      "execution_count": 31,
      "metadata": {
        "id": "w-aNoKUF34hF"
      },
      "outputs": [
        {
          "data": {
            "text/plain": [
              "array([[0, 1, 2, 3, 4]])"
            ]
          },
          "execution_count": 31,
          "metadata": {},
          "output_type": "execute_result"
        }
      ],
      "source": [
        "una_dim = una_dim.reshape(1, 5)\n",
        "una_dim"
      ]
    },
    {
      "cell_type": "markdown",
      "metadata": {
        "id": "wZ6jhoVC4ed7"
      },
      "source": [
        "### Linspace\n",
        "\n",
        "La función linspace de numpy, nos permite crear arreglos de una forma similar a arange().\n",
        "\n",
        "La diferencia con arange() es que en esta función, se crean n elementos igualmente espaciados en un intervalo que definamos.\n",
        "\n",
        "Por ejemplo, si queremos crear un array de 10 elementos igualmente espaciados entre 0 y 1:"
      ]
    },
    {
      "cell_type": "code",
      "execution_count": 32,
      "metadata": {
        "id": "kK4oPBKa4OwD"
      },
      "outputs": [
        {
          "data": {
            "text/plain": [
              "array([0.        , 0.11111111, 0.22222222, 0.33333333, 0.44444444,\n",
              "       0.55555556, 0.66666667, 0.77777778, 0.88888889, 1.        ])"
            ]
          },
          "execution_count": 32,
          "metadata": {},
          "output_type": "execute_result"
        }
      ],
      "source": [
        "np.linspace(0, 1,10) # va del 0 al 1 separado en diez intervalos iguales"
      ]
    },
    {
      "cell_type": "markdown",
      "metadata": {
        "id": "eGizr4fG77T-"
      },
      "source": [
        "Recuerden que siempre se puede usar help!"
      ]
    },
    {
      "cell_type": "code",
      "execution_count": null,
      "metadata": {
        "id": "Y8Pr1LfN79Si"
      },
      "outputs": [],
      "source": [
        "help(np.linspace)"
      ]
    },
    {
      "cell_type": "markdown",
      "metadata": {
        "id": "BEi0rt9i7__c"
      },
      "source": [
        "Y también tenemos documentación: https://numpy.org/doc/stable/reference/generated/numpy.linspace.html"
      ]
    },
    {
      "cell_type": "markdown",
      "metadata": {
        "id": "QKotqFtJ9csj"
      },
      "source": [
        "### Zeros y Ones\n",
        "\n",
        "Numpy también nos permite crear un array de tantos 0s o 1s como querramos"
      ]
    },
    {
      "cell_type": "code",
      "execution_count": null,
      "metadata": {
        "id": "g7NuVwf09i0m"
      },
      "outputs": [],
      "source": [
        "np.ones(10)"
      ]
    },
    {
      "cell_type": "code",
      "execution_count": null,
      "metadata": {
        "id": "p0buVgVy9knG"
      },
      "outputs": [],
      "source": [
        "np.zeros(10)"
      ]
    },
    {
      "cell_type": "markdown",
      "metadata": {
        "id": "smwpJlME94tO"
      },
      "source": [
        "O podemos usar la función full() y crear un array con la shape y el valor que querramos:"
      ]
    },
    {
      "cell_type": "code",
      "execution_count": 33,
      "metadata": {
        "id": "7G4TDPLO9oJK"
      },
      "outputs": [
        {
          "data": {
            "text/plain": [
              "array([[3, 3, 3, 3, 3, 3, 3, 3, 3, 3],\n",
              "       [3, 3, 3, 3, 3, 3, 3, 3, 3, 3],\n",
              "       [3, 3, 3, 3, 3, 3, 3, 3, 3, 3],\n",
              "       [3, 3, 3, 3, 3, 3, 3, 3, 3, 3],\n",
              "       [3, 3, 3, 3, 3, 3, 3, 3, 3, 3],\n",
              "       [3, 3, 3, 3, 3, 3, 3, 3, 3, 3],\n",
              "       [3, 3, 3, 3, 3, 3, 3, 3, 3, 3],\n",
              "       [3, 3, 3, 3, 3, 3, 3, 3, 3, 3],\n",
              "       [3, 3, 3, 3, 3, 3, 3, 3, 3, 3],\n",
              "       [3, 3, 3, 3, 3, 3, 3, 3, 3, 3]])"
            ]
          },
          "execution_count": 33,
          "metadata": {},
          "output_type": "execute_result"
        }
      ],
      "source": [
        "np.full(shape=(10,10), fill_value=3)"
      ]
    },
    {
      "cell_type": "markdown",
      "metadata": {
        "id": "ddn-Mh2m5txI"
      },
      "source": [
        "### Acceder a elementos del array\n",
        "\n",
        "Al igual que una lista, para acceder a los elementos de un array de numpy podemos utilizar el indice de los elementos que querramos o un rango [start:stop:step]"
      ]
    },
    {
      "cell_type": "code",
      "execution_count": 34,
      "metadata": {
        "id": "evltswHY5Cy0"
      },
      "outputs": [
        {
          "data": {
            "text/plain": [
              "array([1, 2, 3, 4])"
            ]
          },
          "execution_count": 34,
          "metadata": {},
          "output_type": "execute_result"
        }
      ],
      "source": [
        "numpy_array"
      ]
    },
    {
      "cell_type": "code",
      "execution_count": 35,
      "metadata": {
        "id": "CBv-w0nb571N"
      },
      "outputs": [
        {
          "data": {
            "text/plain": [
              "2"
            ]
          },
          "execution_count": 35,
          "metadata": {},
          "output_type": "execute_result"
        }
      ],
      "source": [
        "numpy_array[1]"
      ]
    },
    {
      "cell_type": "code",
      "execution_count": 36,
      "metadata": {
        "id": "BFEg7RZq5_SN"
      },
      "outputs": [
        {
          "data": {
            "text/plain": [
              "array([1, 2, 3])"
            ]
          },
          "execution_count": 36,
          "metadata": {},
          "output_type": "execute_result"
        }
      ],
      "source": [
        "numpy_array[0:3]"
      ]
    },
    {
      "cell_type": "markdown",
      "metadata": {
        "id": "Q7_TneBT49AQ"
      },
      "source": [
        "### Mask\n",
        "\n",
        "Muchas veces vamos a tener arrays enormes con datos y queremos filtrarlos. Por ejemplo, de un array queremos obtener todos los números que sean menores a 10.\n",
        "\n",
        "Para hacer esto en una lista de python, deberíamos iterar sobre toda la lista. Podemos evitarlo usando masks en numpy.\n",
        "\n",
        "Las masks (o filtros booleanos) se definen como una condición, por ejemplo para el caso en el que queremos saber si un elemento es < 10:\n",
        "\n",
        "`lista < 10`\n",
        "\n",
        "Esto nos va a retornar otra lista (con el mismo shape que la lista a la que le aplicamos la mask) pero que va a contener los valores `True` y `False`.\n",
        "\n",
        "True en los casos que se cumple la condición, False de lo contrario.\n"
      ]
    },
    {
      "cell_type": "code",
      "execution_count": 37,
      "metadata": {
        "id": "Og1VGsHL40uL"
      },
      "outputs": [
        {
          "data": {
            "text/plain": [
              "array([[ 0,  1,  2,  3,  4,  5,  6,  7,  8,  9],\n",
              "       [10, 11, 12, 13, 14, 15, 16, 17, 18, 19],\n",
              "       [20, 21, 22, 23, 24, 25, 26, 27, 28, 29],\n",
              "       [30, 31, 32, 33, 34, 35, 36, 37, 38, 39],\n",
              "       [40, 41, 42, 43, 44, 45, 46, 47, 48, 49],\n",
              "       [50, 51, 52, 53, 54, 55, 56, 57, 58, 59],\n",
              "       [60, 61, 62, 63, 64, 65, 66, 67, 68, 69],\n",
              "       [70, 71, 72, 73, 74, 75, 76, 77, 78, 79],\n",
              "       [80, 81, 82, 83, 84, 85, 86, 87, 88, 89],\n",
              "       [90, 91, 92, 93, 94, 95, 96, 97, 98, 99]])"
            ]
          },
          "execution_count": 37,
          "metadata": {},
          "output_type": "execute_result"
        }
      ],
      "source": [
        "lista_a_filtrar = np.arange(100).reshape(10, 10) # Creamos una lista de 100 elementos con shape (10, 10), es decir, 10 filas y 10 columnas\n",
        "lista_a_filtrar"
      ]
    },
    {
      "cell_type": "code",
      "execution_count": 38,
      "metadata": {
        "id": "vD-BGQhk5N9o"
      },
      "outputs": [
        {
          "data": {
            "text/plain": [
              "array([[ True,  True,  True,  True,  True,  True,  True,  True,  True,\n",
              "         True],\n",
              "       [False, False, False, False, False, False, False, False, False,\n",
              "        False],\n",
              "       [False, False, False, False, False, False, False, False, False,\n",
              "        False],\n",
              "       [False, False, False, False, False, False, False, False, False,\n",
              "        False],\n",
              "       [False, False, False, False, False, False, False, False, False,\n",
              "        False],\n",
              "       [False, False, False, False, False, False, False, False, False,\n",
              "        False],\n",
              "       [False, False, False, False, False, False, False, False, False,\n",
              "        False],\n",
              "       [False, False, False, False, False, False, False, False, False,\n",
              "        False],\n",
              "       [False, False, False, False, False, False, False, False, False,\n",
              "        False],\n",
              "       [False, False, False, False, False, False, False, False, False,\n",
              "        False]])"
            ]
          },
          "execution_count": 38,
          "metadata": {},
          "output_type": "execute_result"
        }
      ],
      "source": [
        "# Definimos la Mask\n",
        "\n",
        "mask = lista_a_filtrar < 10\n",
        "mask"
      ]
    },
    {
      "cell_type": "markdown",
      "metadata": {
        "id": "0GumFE1_7aLz"
      },
      "source": [
        "Ahora, la Mask nos retorna otra lista con valores booleanos, pero si queremos usar esto para filtrar (aplicar la mascara), como hacemos?\n",
        "\n",
        "Es simple, se define de la siguiente manera:"
      ]
    },
    {
      "cell_type": "code",
      "execution_count": 39,
      "metadata": {
        "id": "p20enwRn7WAu"
      },
      "outputs": [
        {
          "data": {
            "text/plain": [
              "array([0, 1, 2, 3, 4, 5, 6, 7, 8, 9])"
            ]
          },
          "execution_count": 39,
          "metadata": {},
          "output_type": "execute_result"
        }
      ],
      "source": [
        "lista_filtrada = lista_a_filtrar[mask]\n",
        "lista_filtrada"
      ]
    },
    {
      "cell_type": "markdown",
      "metadata": {
        "id": "6LLeb5AZ-t9_"
      },
      "source": [
        "Las máscaras no sirven solo para filtrar, también podemos asignar un valor a los elementos que cumplan la condición. Veamos un ejemplo: Reemplacemos todos los elementos que sean menores a 10 por el numero 10:"
      ]
    },
    {
      "cell_type": "code",
      "execution_count": 40,
      "metadata": {
        "id": "PerRcMPW-4pY"
      },
      "outputs": [
        {
          "data": {
            "text/plain": [
              "array([10, 10, 10, 10, 10, 10, 10, 10, 10, 10, 10, 11, 12, 13, 14, 15, 16,\n",
              "       17, 18, 19])"
            ]
          },
          "execution_count": 40,
          "metadata": {},
          "output_type": "execute_result"
        }
      ],
      "source": [
        "lista_elementos = np.arange(20)\n",
        "mask = lista_elementos < 10\n",
        "lista_elementos[mask] = 10 # Asignamos el valor \"menor\" a todos los items que cumplen la condicion\n",
        "lista_elementos"
      ]
    },
    {
      "cell_type": "markdown",
      "metadata": {
        "id": "c9VRDoEI8Lwp"
      },
      "source": [
        "### Otras funciones\n",
        "\n",
        "No podemos ver todas las funciones que nos brinda numpy en una clase, pero vamos a ver algunas de las más comunes ya que el resto tiene una sintaxis similar.\n",
        "\n",
        "Si queremos sumar todos los elementos de un array:"
      ]
    },
    {
      "cell_type": "code",
      "execution_count": 41,
      "metadata": {
        "id": "N3964JSe7mA3"
      },
      "outputs": [
        {
          "data": {
            "text/plain": [
              "4950"
            ]
          },
          "execution_count": 41,
          "metadata": {},
          "output_type": "execute_result"
        }
      ],
      "source": [
        "lista_a_filtrar.sum()"
      ]
    },
    {
      "cell_type": "code",
      "execution_count": 42,
      "metadata": {
        "id": "RbvVYUDj5Cy2"
      },
      "outputs": [
        {
          "data": {
            "text/plain": [
              "array([[ 0,  1,  2,  3,  4,  5,  6,  7,  8,  9],\n",
              "       [10, 11, 12, 13, 14, 15, 16, 17, 18, 19],\n",
              "       [20, 21, 22, 23, 24, 25, 26, 27, 28, 29],\n",
              "       [30, 31, 32, 33, 34, 35, 36, 37, 38, 39],\n",
              "       [40, 41, 42, 43, 44, 45, 46, 47, 48, 49],\n",
              "       [50, 51, 52, 53, 54, 55, 56, 57, 58, 59],\n",
              "       [60, 61, 62, 63, 64, 65, 66, 67, 68, 69],\n",
              "       [70, 71, 72, 73, 74, 75, 76, 77, 78, 79],\n",
              "       [80, 81, 82, 83, 84, 85, 86, 87, 88, 89],\n",
              "       [90, 91, 92, 93, 94, 95, 96, 97, 98, 99]])"
            ]
          },
          "execution_count": 42,
          "metadata": {},
          "output_type": "execute_result"
        }
      ],
      "source": [
        "lista_a_filtrar"
      ]
    },
    {
      "cell_type": "markdown",
      "metadata": {
        "id": "hy-Ip1Bc8uVL"
      },
      "source": [
        "En numpy, las funciones se pueden aplicar por \"axis\" (eje). Por ejemplo, podemos aplicar la función sum() sobre cada columna:"
      ]
    },
    {
      "cell_type": "code",
      "execution_count": 43,
      "metadata": {
        "id": "ZERi_mTW8nm5"
      },
      "outputs": [
        {
          "data": {
            "text/plain": [
              "array([450, 460, 470, 480, 490, 500, 510, 520, 530, 540])"
            ]
          },
          "execution_count": 43,
          "metadata": {},
          "output_type": "execute_result"
        }
      ],
      "source": [
        "# Por columnas\n",
        "\n",
        "lista_a_filtrar.sum(axis=0)"
      ]
    },
    {
      "cell_type": "markdown",
      "metadata": {
        "id": "vhTkdG238_W1"
      },
      "source": [
        "O sobre cada fila:\n"
      ]
    },
    {
      "cell_type": "code",
      "execution_count": 44,
      "metadata": {
        "id": "2oJxxrf683pv"
      },
      "outputs": [
        {
          "data": {
            "text/plain": [
              "array([ 45, 145, 245, 345, 445, 545, 645, 745, 845, 945])"
            ]
          },
          "execution_count": 44,
          "metadata": {},
          "output_type": "execute_result"
        }
      ],
      "source": [
        "# Por filas\n",
        "\n",
        "lista_a_filtrar.sum(axis=1)"
      ]
    },
    {
      "cell_type": "markdown",
      "metadata": {
        "id": "0vv0JfLB-EvT"
      },
      "source": [
        "# A practicar!\n",
        "\n",
        "Ahora que vimos algunas funcionalidades de numpy, vamos a resolver algunos problemas. Acuerdense de modificar, romper y arreglar todo lo que quieran!\n",
        "\n",
        "Probablemente necesiten buscar algo en la documentación o utilizar el comando help().\n"
      ]
    },
    {
      "cell_type": "markdown",
      "metadata": {
        "id": "vFekgvhv-WSm"
      },
      "source": [
        "#### Ejercicio\n",
        "\n",
        "Crear un array de 3x3 en el que todos sus valores sean `True` de la forma más simple posible"
      ]
    },
    {
      "cell_type": "code",
      "execution_count": 45,
      "metadata": {
        "id": "ACsIuPap-Vh_"
      },
      "outputs": [
        {
          "name": "stdout",
          "output_type": "stream",
          "text": [
            "[[ True  True  True]\n",
            " [ True  True  True]\n",
            " [ True  True  True]]\n"
          ]
        }
      ],
      "source": [
        "arreglo = np.ones((3, 3), dtype=bool) # aca definis el shape y el tipo de dato \n",
        "print(arreglo)"
      ]
    },
    {
      "cell_type": "markdown",
      "metadata": {
        "id": "gnTtsPxO-mjo"
      },
      "source": [
        "#### Ejercicio\n",
        "\n",
        "Reemplazar todos los números impares del siguiente array por el valor -1"
      ]
    },
    {
      "cell_type": "code",
      "execution_count": 49,
      "metadata": {
        "id": "oxF5oGEc_cc8"
      },
      "outputs": [
        {
          "data": {
            "text/plain": [
              "array([ 0, -1,  2, -1,  4, -1,  6, -1,  8, -1])"
            ]
          },
          "execution_count": 49,
          "metadata": {},
          "output_type": "execute_result"
        }
      ],
      "source": [
        "arr = np.array([0, 1, 2, 3, 4, 5, 6, 7, 8, 9])\n",
        "mask = arr % 2 == 1\n",
        "arr[mask]= -1 \n",
        "arr\n",
        "#COMPLETAR"
      ]
    },
    {
      "cell_type": "markdown",
      "metadata": {
        "id": "AyRMewpV_h_r"
      },
      "source": [
        "#### Ejercicio\n",
        "\n",
        "Investigar las funciones vstack y hstack de numpy.\n",
        "\n",
        "1) Concatenar los arrays a y b horizontalmente\n",
        "\n",
        "2) Concatenar los arrays a y b verticalmente\n",
        "\n",
        "Resultado esperado:\n",
        "\n",
        "1)\n",
        "```\n",
        "array([[0, 1, 2, 3, 4],\n",
        "       [5, 6, 7, 8, 9],\n",
        "       [1, 1, 1, 1, 1],\n",
        "       [1, 1, 1, 1, 1]])\n",
        "```\n",
        "\n",
        "2)\n",
        "```\n",
        "array([[0, 1, 2, 3, 4, 1, 1, 1, 1, 1],\n",
        "      [5, 6, 7, 8, 9, 1, 1, 1, 1, 1]])\n",
        "```\n",
        "\n"
      ]
    },
    {
      "cell_type": "code",
      "execution_count": 59,
      "metadata": {
        "id": "Q5___yx5_jGg"
      },
      "outputs": [],
      "source": [
        "a = np.arange(10).reshape(2,5)\n",
        "b = np.repeat(1, 10).reshape(2,5)"
      ]
    },
    {
      "cell_type": "code",
      "execution_count": 60,
      "metadata": {
        "id": "gNIDS0w49_18"
      },
      "outputs": [
        {
          "name": "stdout",
          "output_type": "stream",
          "text": [
            "[[0 1 2 3 4]\n",
            " [5 6 7 8 9]]\n"
          ]
        }
      ],
      "source": [
        "print(a)"
      ]
    },
    {
      "cell_type": "code",
      "execution_count": 61,
      "metadata": {
        "id": "_QwyF0y7-Ah0"
      },
      "outputs": [
        {
          "name": "stdout",
          "output_type": "stream",
          "text": [
            "[[1 1 1 1 1]\n",
            " [1 1 1 1 1]]\n",
            "[[0 1 2 3 4 1 1 1 1 1]\n",
            " [5 6 7 8 9 1 1 1 1 1]]\n"
          ]
        }
      ],
      "source": [
        "print(b)\n",
        "c= np.hstack((a,b))\n",
        "print(c)"
      ]
    },
    {
      "cell_type": "markdown",
      "metadata": {
        "id": "98fsHZfa_yQe"
      },
      "source": [
        "##### Ejercicio\n",
        "\n",
        "Como podemos obtener la intersección entre dos arrays?\n",
        "\n",
        "Investigar la función `intersect1d` y utilizarla para los siguientes arrays:"
      ]
    },
    {
      "cell_type": "code",
      "execution_count": null,
      "metadata": {
        "id": "HHE9ohwW_ZvB"
      },
      "outputs": [],
      "source": [
        "a = np.array([1,2,3,2,3,4,3,4,5,6])\n",
        "b = np.array([7,2,10,2,7,4,9,4,9,8])"
      ]
    },
    {
      "cell_type": "code",
      "execution_count": null,
      "metadata": {
        "id": "mRgUebvjAMY7"
      },
      "outputs": [],
      "source": [
        "# COMPLETAR"
      ]
    },
    {
      "cell_type": "code",
      "execution_count": null,
      "metadata": {
        "id": "IMcNKMIUAIw7"
      },
      "outputs": [],
      "source": [
        "# Salida esperada: array([2, 4])"
      ]
    }
  ],
  "metadata": {
    "colab": {
      "provenance": []
    },
    "kernelspec": {
      "display_name": "Python 3",
      "language": "python",
      "name": "python3"
    },
    "language_info": {
      "codemirror_mode": {
        "name": "ipython",
        "version": 3
      },
      "file_extension": ".py",
      "mimetype": "text/x-python",
      "name": "python",
      "nbconvert_exporter": "python",
      "pygments_lexer": "ipython3",
      "version": "3.11.5"
    },
    "vscode": {
      "interpreter": {
        "hash": "892d461b55a6ce994a56bafd67ae2f3489d9f23234c096cfb51dfe498c166e4b"
      }
    }
  },
  "nbformat": 4,
  "nbformat_minor": 0
}
